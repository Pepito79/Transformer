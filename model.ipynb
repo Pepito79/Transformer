{
 "cells": [
  {
   "cell_type": "code",
   "execution_count": 1,
   "id": "fc54d520",
   "metadata": {},
   "outputs": [],
   "source": [
    "import torch\n",
    "import torch.nn as nn\n",
    "import math"
   ]
  },
  {
   "cell_type": "code",
   "execution_count": 2,
   "id": "10eeb815",
   "metadata": {},
   "outputs": [],
   "source": [
    "class InputEmbedding(nn.Module):\n",
    "    def __init__(self, vocab_size: int, d_model:int):\n",
    "        super().__init__()\n",
    "        self.d_model = d_model\n",
    "        self.vocab_size = vocab_size\n",
    "        self.embedding = nn.Embedding(vocab_size,d_model)\n",
    "    def forward(self,x):\n",
    "        return self.embedding(x) * math.sqrt(self.d_model)   #  "
   ]
  },
  {
   "cell_type": "code",
   "execution_count": 3,
   "id": "db4ed2dd",
   "metadata": {},
   "outputs": [],
   "source": [
    "class PositionalEncoding(nn.Module):\n",
    "    def __init__(self, d_model:int , seq_len : int , dropout:float) -> None:\n",
    "        super().__init__()\n",
    "        self.d_model = d_model\n",
    "        self.seq_len = seq_len\n",
    "        #To avoid overfitting we use a dropout layer\n",
    "        self.dropout = nn.Dropout(dropout)\n",
    "        pe = torch.zeros(seq_len,d_model)\n",
    "        position = torch.arange(0,seq_len,1,dtype=torch.float).unsqueeze(1)\n",
    "        div_term = torch.exp(torch.arange(0,d_model,2).float() * (-math.log(1000)/ d_model))\n",
    "        #Separate the odd and even numbers\n",
    "        pe[:, 0::2] = torch.sin(position * div_term)\n",
    "        pe[:, 1::2] = torch.cos(position * div_term)\n",
    "        \n",
    "        pe = pe.unsqueeze(0)  #(1,seq_len , d_model)\n",
    "        self.register_buffer(\"pe\",pe)\n",
    "        \n",
    "    def forward(self ,x):\n",
    "        x = x + (self.pe[: , :x.shape(1),:]).requires_grad(False)\n",
    "        return self.dropout(x)\n"
   ]
  },
  {
   "cell_type": "code",
   "execution_count": 4,
   "id": "1b37d79a",
   "metadata": {},
   "outputs": [],
   "source": [
    "class LayerNormalization(nn.Module):\n",
    "    def __init__(self, eps : float = 10e-6) :\n",
    "        super().__init__()\n",
    "        self.eps = eps\n",
    "        self.alpha = nn.Parameter(torch.ones(1))\n",
    "        self.beta = nn.Parameter(torch.ones(1))\n",
    "        \n",
    "        def forward(self,x):\n",
    "            # x = (batch_size, seq_len , d_model)\n",
    "            mean = x.mean(dim= -1 , keepdim= True)\n",
    "            std = x.std(dim = -1 , keepdim= True)\n",
    "            return self.alpha * (x - mean)/(std + eps) + self.beta"
   ]
  },
  {
   "cell_type": "code",
   "execution_count": 5,
   "id": "e1a82ee3",
   "metadata": {},
   "outputs": [],
   "source": [
    "class FeedForwardBlock(nn.Module):\n",
    "    def __init__(self, d_model : int , d_ff: int , dropout:float) -> None:\n",
    "        super().__init__()\n",
    "        self.d_model = d_model\n",
    "        self.d_ff = d_ff\n",
    "        self.dropout = nn.Dropout(dropout)\n",
    "        self.linear_1 = nn.Linear(d_model, d_ff)\n",
    "        self.linear_2 = nn.Linear(d_ff,d_model)\n",
    "        \n",
    "    def forward(self,x):\n",
    "        # x : (batch_size , seq_len ,d_model) -->(batch_size , seq_len ,d_ff) -->(batch_size , seq_len ,d_model)\n",
    "        return self.linear_2(self.dropout(torch.relu(self.linear_1(x))))"
   ]
  },
  {
   "cell_type": "code",
   "execution_count": 18,
   "id": "de5ab143",
   "metadata": {},
   "outputs": [],
   "source": [
    "class MultiHeadAttentionBlock(nn.Module):\n",
    "    def __init__(self, d_model: int , h : int , dropout: float ) -> None:\n",
    "        super().__init__()\n",
    "        self.h = h\n",
    "        self.d_model = d_model\n",
    "        self.dropout = nn.Dropout(dropout)\n",
    "        assert d_model % h == 0 ,\"Can not divide d_model by h\"\n",
    "        \n",
    "        self.d_k = d_model // h\n",
    "        self.w_q = nn.Linear(d_model, d_model, bias = False )\n",
    "        self.w_k= nn.Linear(d_model, d_model, bias = False )\n",
    "        self.w_v = nn.Linear(d_model, d_model, bias = False )\n",
    "        self.w_o = nn.Linear(d_model, d_model, bias = False )\n",
    "        \n",
    "    @staticmethod\n",
    "    def attention(query,key,value,mask , dropout: nn.Dropout):\n",
    "        d_k= query.shape[-1]\n",
    "        attention_scores = (query @ key.transpose(-2,-1))/ math.sqrt(d_k)\n",
    "        if mask is not None:\n",
    "            attention_scores = attention_scores.mask_fill_(mask == 0 , -1e9)\n",
    "        attention_scores = attention_scores.softmax(dim = -1) #(batch_size,h,seq_len,d_model,d_model)\n",
    "        if dropout is not None :\n",
    "            attention_scores = dropout(attention_scores)\n",
    "        return (attention_scores @ value) , attention_scores   # Take the attention scores for visualization\n",
    "            \n",
    "    def forward(self, q, v, k , mask):\n",
    "        query = self.w_q(q)  # (batch_size , seq_len , d_model ) --> (batch_size,seq_len,d_model)\n",
    "        value = self.w_v(v)  # (batch_size , seq_len , d_model ) --> (batch_size,seq_len,d_model)\n",
    "        key   = self.w_k(k)  # (batch_size , seq_len , d_model ) --> (batch_size,seq_len,d_model)\n",
    "\n",
    "        #Split the embeddings\n",
    "        # (batch_size , seq_len , d_model ) --> (batch_size,h,seq_len,d_model,d_k)\n",
    "        query = query.view(query.shape[0],query.shape[1],self.h,self.d_k ).transpose(1,2)\n",
    "        key = key.view(key.shape[0],key.shape[1],self.h,self.d_k ).transpose(1,2)\n",
    "        value = value.view(value.shape[0],value.shape[1],self.h,self.d_k ).transpose(1,2)\n",
    "        \n",
    "        x , self.attention_score = MultiHeadAttentionBlock.attention(key,query,value,mask , self.dropout)\n",
    "        #(batch , h , seq_len , d_k) -->(batch_size,seq_len,d_model,d_k) -->(batch_size,seq_len,d_model)\n",
    "        x = x.transpose(1,2).contiguous().view(x.shape[0],-1,self.h * self.d_k)\n",
    "        return self.w_o(x)\n",
    "    "
   ]
  },
  {
   "cell_type": "code",
   "execution_count": 19,
   "id": "d0170fd4",
   "metadata": {},
   "outputs": [],
   "source": [
    "class ResidualConnection(nn.Module):\n",
    "    def __init__(self,dropout : float ) -> None:\n",
    "        super().__init__()\n",
    "        self.dropout = nn.dropout(dropout)\n",
    "        self.norm = LayerNormalization()\n",
    "        \n",
    "    def forward(self,x , sublayer):\n",
    "        return x + self.dropout(sublayer(self.norm(x)))"
   ]
  },
  {
   "cell_type": "code",
   "execution_count": 20,
   "id": "992608d1",
   "metadata": {},
   "outputs": [],
   "source": [
    "class EncoderBlock(nn.Module):\n",
    "    def __init__(self, self_attention_block : MultiHeadAttentionBlock , feed_forward_block : FeedForwardBlock , dropout: float ) -> None:\n",
    "        super().__init__()\n",
    "        self.self_attention_block= self_attention_block\n",
    "        self.feed_forward_block = feed_forward_block\n",
    "        self.residual_connexions = nn.ModuleList([ResidualConnection(dropout) for _ in range(2)])\n",
    "        \n",
    "    def forward(self , x , src_mask):\n",
    "        x = self.residual_connexions[0](x, lambda x: self.self_attention_block(x,x,x,src_mask))\n",
    "        x = self.residual_connexions[0](x, self.feed_forward_block)\n",
    "        "
   ]
  },
  {
   "cell_type": "code",
   "execution_count": 21,
   "id": "08118c85",
   "metadata": {},
   "outputs": [],
   "source": [
    "class Encoder(nn.Module):\n",
    "    def __init__(self, layers: nn.ModuleList) -> None:\n",
    "        super().__init__()\n",
    "        self.layers = layers\n",
    "        self.norm = LayerNormalization()\n",
    "    def forward(self , x ,mask):\n",
    "        for l in self.layers:\n",
    "            x = l(x,mask)\n",
    "        return self.norm(x)"
   ]
  }
 ],
 "metadata": {
  "kernelspec": {
   "display_name": "myenv",
   "language": "python",
   "name": "python3"
  },
  "language_info": {
   "codemirror_mode": {
    "name": "ipython",
    "version": 3
   },
   "file_extension": ".py",
   "mimetype": "text/x-python",
   "name": "python",
   "nbconvert_exporter": "python",
   "pygments_lexer": "ipython3",
   "version": "3.12.3"
  }
 },
 "nbformat": 4,
 "nbformat_minor": 5
}
