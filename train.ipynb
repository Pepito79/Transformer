{
 "cells": [
  {
   "cell_type": "code",
   "execution_count": 13,
   "id": "eb44f886",
   "metadata": {},
   "outputs": [],
   "source": [
    "import torch \n",
    "from torch.utils.data import random_split,DataLoader\n",
    "import torch.nn as nn\n",
    "from datasets import load_dataset\n",
    "from tokenizers import Tokenizer\n",
    "from tokenizers.models import WordLevel\n",
    "from tokenizers.trainers import WordLevelTrainer\n",
    "from tokenizers.pre_tokenizers import Whitespace\n",
    "from pathlib import Path"
   ]
  },
  {
   "cell_type": "code",
   "execution_count": 12,
   "id": "f1fd8837",
   "metadata": {},
   "outputs": [],
   "source": [
    "def get_sentances(ds,lang):\n",
    "    for item in ds:\n",
    "        yield item[\"translation\"][lang]"
   ]
  },
  {
   "cell_type": "code",
   "execution_count": 11,
   "id": "07c7ab21",
   "metadata": {},
   "outputs": [],
   "source": [
    "def get_or_build_tokenizer(config,ds , lang):\n",
    "    tokenizer_path = Path(config[\"tokenizer_path\"].format(lang))\n",
    "    if not tokenizer_path.exists():\n",
    "        tokenizer = Tokenizer(model= WordLevel(unk_token= \"[UNK]\"))\n",
    "        tokenizer.pre_tokenizer = Whitespace() \n",
    "        trainer = WordLevelTrainer(special_tokens=[\"[UNK]\",\"[PAD]\" , \"[SOS]\",\"[EOS]\"],min_frequency=2)\n",
    "        tokenizer.train_from_iterator(iterator=get_sentances(ds,lang),trainer=trainer)\n",
    "    else:\n",
    "        tokenizer = Tokenizer.from_file(str(tokenizer_path))\n",
    "    return tokenizer\n",
    "        "
   ]
  },
  {
   "cell_type": "code",
   "execution_count": 15,
   "id": "5277b0bd",
   "metadata": {},
   "outputs": [],
   "source": [
    "def get_ds(config):\n",
    "    lang_src = config[\"lang_src\"]\n",
    "    lang_tgt = config[\"lang_tgt\"]\n",
    "    ds_raw = load_dataset(name='opus_books', subset = f\"{lang_src}-{lang_tgt}\", split=\"train\")\n",
    "    \n",
    "    #We define two tokenizer (each language has different tokens)\n",
    "    tokenizer_src = get_or_build_tokenizer(config,ds_raw,lang_src)\n",
    "    tokenizer_tgt = get_or_build_tokenizer(config,ds_raw,lang_tgt)\n",
    "    \n",
    "    train_size = int(0.9 * len(ds_raw))\n",
    "    val_size = int(0.1 * len(ds_raw))\n",
    "    train_ds_raw , val_ds_raw = random_split(dataset=ds_raw,size = [train_size,val_size])\n",
    "\n"
   ]
  }
 ],
 "metadata": {
  "kernelspec": {
   "display_name": "myenv",
   "language": "python",
   "name": "python3"
  },
  "language_info": {
   "codemirror_mode": {
    "name": "ipython",
    "version": 3
   },
   "file_extension": ".py",
   "mimetype": "text/x-python",
   "name": "python",
   "nbconvert_exporter": "python",
   "pygments_lexer": "ipython3",
   "version": "3.12.3"
  }
 },
 "nbformat": 4,
 "nbformat_minor": 5
}
