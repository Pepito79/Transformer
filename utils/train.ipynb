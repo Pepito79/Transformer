{
 "cells": [
  {
   "cell_type": "code",
   "execution_count": 3,
   "id": "eb44f886",
   "metadata": {},
   "outputs": [
    {
     "name": "stderr",
     "output_type": "stream",
     "text": [
      "2025-10-20 13:54:18.533848: I tensorflow/core/util/port.cc:153] oneDNN custom operations are on. You may see slightly different numerical results due to floating-point round-off errors from different computation orders. To turn them off, set the environment variable `TF_ENABLE_ONEDNN_OPTS=0`.\n",
      "2025-10-20 13:54:18.571865: I tensorflow/core/platform/cpu_feature_guard.cc:210] This TensorFlow binary is optimized to use available CPU instructions in performance-critical operations.\n",
      "To enable the following instructions: AVX2 AVX512F AVX512_VNNI AVX512_BF16 FMA, in other operations, rebuild TensorFlow with the appropriate compiler flags.\n",
      "2025-10-20 13:54:19.831035: I tensorflow/core/util/port.cc:153] oneDNN custom operations are on. You may see slightly different numerical results due to floating-point round-off errors from different computation orders. To turn them off, set the environment variable `TF_ENABLE_ONEDNN_OPTS=0`.\n"
     ]
    }
   ],
   "source": [
    "import torch \n",
    "from torch.utils.data import random_split,DataLoader\n",
    "import import_ipynb\n",
    "from torch.utils.tensorboard import SummaryWriter\n",
    "import torch.nn as nn\n",
    "from datasets import load_dataset\n",
    "from tokenizers import Tokenizer\n",
    "from tokenizers.models import WordLevel\n",
    "from tokenizers.trainers import WordLevelTrainer\n",
    "from tokenizers.pre_tokenizers import Whitespace\n",
    "from pathlib import Path\n",
    "from dataset_py import BillingualDataset,causal_mask\n",
    "from model import build_transformer\n",
    "from config import get_config , get_weights_file_path\n",
    "from  tqdm import tqdm\n",
    "import warnings"
   ]
  },
  {
   "cell_type": "code",
   "execution_count": 4,
   "id": "f1fd8837",
   "metadata": {},
   "outputs": [],
   "source": [
    "def get_sentances(ds,lang):\n",
    "    for item in ds:\n",
    "        yield item[\"translation\"][lang]"
   ]
  },
  {
   "cell_type": "code",
   "execution_count": 5,
   "id": "07c7ab21",
   "metadata": {},
   "outputs": [],
   "source": [
    "def get_or_build_tokenizer(config,ds , lang):\n",
    "    tokenizer_path = Path(config[\"tokenizer_path\"].format(lang))\n",
    "    if not tokenizer_path.exists():\n",
    "        tokenizer = Tokenizer(model= WordLevel(unk_token= \"[UNK]\"))\n",
    "        tokenizer.pre_tokenizer = Whitespace() \n",
    "        trainer = WordLevelTrainer(special_tokens=[\"[UNK]\",\"[PAD]\" , \"[SOS]\",\"[EOS]\"],min_frequency=2)\n",
    "        tokenizer.train_from_iterator(iterator=get_sentances(ds,lang),trainer=trainer)\n",
    "    else:\n",
    "        tokenizer = Tokenizer.from_file(str(tokenizer_path))\n",
    "    return tokenizer\n",
    "        "
   ]
  },
  {
   "cell_type": "code",
   "execution_count": 6,
   "id": "5277b0bd",
   "metadata": {},
   "outputs": [],
   "source": [
    "def get_ds(config):\n",
    "    lang_src = config[\"lang_src\"]\n",
    "    lang_tgt = config[\"lang_tgt\"]\n",
    "    len_seq = config[\"seq_len\"]\n",
    "    \n",
    "    ds_raw = load_dataset(name='opus_books', subset = f\"{lang_src}-{lang_tgt}\", split=\"train\")\n",
    "    \n",
    "    #We define two tokenizer (each language has different tokens)\n",
    "    tokenizer_src = get_or_build_tokenizer(config,ds_raw,lang_src)\n",
    "    tokenizer_tgt = get_or_build_tokenizer(config,ds_raw,lang_tgt)\n",
    "    \n",
    "    train_size = int(0.9 * len(ds_raw))\n",
    "    val_size = int(0.1 * len(ds_raw))\n",
    "    train_ds_raw , val_ds_raw = random_split(dataset=ds_raw,size = [train_size,val_size])\n",
    "\n",
    "    train_ds = BillingualDataset(ds =train_ds_raw,src_lang= lang_src , tgt_lang= lang_tgt,src_tokenizer= tokenizer_src, tgt_tokenizer=tokenizer_tgt , max_len=len_seq)\n",
    "    val_ds = BillingualDataset(ds =val_ds_raw,src_lang= lang_src , tgt_lang= lang_tgt,src_tokenizer= tokenizer_src, tgt_tokenizer=tokenizer_tgt , max_len=len_seq)\n",
    "\n",
    "    #Find the max len sentance \n",
    "    max_len_src = 0\n",
    "    max_len_tgt = 0 \n",
    "    for item in ds_raw:\n",
    "        src_idc = tokenizer_src.encode(item[\"translation\"][lang_src]).ids\n",
    "        tgt_idc = tokenizer_src.encode(item[\"translation\"][lang_tgt]).ids\n",
    "        \n",
    "        max_len_src = max(max_len_src, len(src_idc))\n",
    "        max_tgt_idc = max(max_len_tgt,len(tgt_idc))\n",
    "        \n",
    "        print(f'Max len source : {max_len_src}')\n",
    "        print(f'Max len tgt : {max_len_tgt}')\n",
    "        \n",
    "    train_dataloader = DataLoader(train_ds,batch_size=config[\"batch_size\"], shuffle=True)\n",
    "    val_dataloader = DataLoader(val_ds,batch_size=config[\"batch_size\"], shuffle=True)\n",
    "    \n",
    "    return train_dataloader , val_dataloader , tokenizer_src , tokenizer_tgt\n",
    "        \n",
    "\n"
   ]
  },
  {
   "cell_type": "code",
   "execution_count": 7,
   "id": "7a0f044b",
   "metadata": {},
   "outputs": [],
   "source": [
    "def get_model(config, vocab_src_len , vocab_tgt_len):\n",
    "    model = build_transformer(src_vocab_size=vocab_src_len, tgt_vocab_size=vocab_tgt_len,src_seq_len=config['seq_len'],tgt_seq_len= config['seq_len'],d_model=config['d_model'])\n",
    "    return model"
   ]
  },
  {
   "cell_type": "code",
   "execution_count": 10,
   "id": "8250956d",
   "metadata": {},
   "outputs": [
    {
     "name": "stdout",
     "output_type": "stream",
     "text": [
      " Using device:cpu\n"
     ]
    },
    {
     "ename": "TypeError",
     "evalue": "load_dataset() missing 1 required positional argument: 'path'",
     "output_type": "error",
     "traceback": [
      "\u001b[31m---------------------------------------------------------------------------\u001b[39m",
      "\u001b[31mTypeError\u001b[39m                                 Traceback (most recent call last)",
      "\u001b[36mCell\u001b[39m\u001b[36m \u001b[39m\u001b[32mIn[10]\u001b[39m\u001b[32m, line 72\u001b[39m\n\u001b[32m     70\u001b[39m warnings.filterwarnings(\u001b[33m\"\u001b[39m\u001b[33mignore\u001b[39m\u001b[33m\"\u001b[39m)\n\u001b[32m     71\u001b[39m config = get_config()\n\u001b[32m---> \u001b[39m\u001b[32m72\u001b[39m \u001b[43mtrain_model\u001b[49m\u001b[43m(\u001b[49m\u001b[43mconfig\u001b[49m\u001b[43m=\u001b[49m\u001b[43mconfig\u001b[49m\u001b[43m)\u001b[49m\n",
      "\u001b[36mCell\u001b[39m\u001b[36m \u001b[39m\u001b[32mIn[10]\u001b[39m\u001b[32m, line 10\u001b[39m, in \u001b[36mtrain_model\u001b[39m\u001b[34m(config)\u001b[39m\n\u001b[32m      7\u001b[39m Path(config[\u001b[33m\"\u001b[39m\u001b[33mmodel_folder\u001b[39m\u001b[33m\"\u001b[39m]).mkdir(parents=\u001b[38;5;28;01mTrue\u001b[39;00m, exist_ok=\u001b[38;5;28;01mTrue\u001b[39;00m)\n\u001b[32m      9\u001b[39m \u001b[38;5;66;03m#Load the dataset\u001b[39;00m\n\u001b[32m---> \u001b[39m\u001b[32m10\u001b[39m train_dataloader , val_dataloader , tokenizer_src , tokenizer_tgt = \u001b[43mget_ds\u001b[49m\u001b[43m(\u001b[49m\u001b[43mconfig\u001b[49m\u001b[43m=\u001b[49m\u001b[43mconfig\u001b[49m\u001b[43m)\u001b[49m\n\u001b[32m     12\u001b[39m \u001b[38;5;66;03m#Import the model\u001b[39;00m\n\u001b[32m     13\u001b[39m model = get_model(config= config,vocab_src_len= tokenizer_src.get_vocab_size(), vocab_tgt_len= tokenizer_tgt.get_vocab_size()).to(device)\n",
      "\u001b[36mCell\u001b[39m\u001b[36m \u001b[39m\u001b[32mIn[6]\u001b[39m\u001b[32m, line 6\u001b[39m, in \u001b[36mget_ds\u001b[39m\u001b[34m(config)\u001b[39m\n\u001b[32m      3\u001b[39m lang_tgt = config[\u001b[33m\"\u001b[39m\u001b[33mlang_tgt\u001b[39m\u001b[33m\"\u001b[39m]\n\u001b[32m      4\u001b[39m len_seq = config[\u001b[33m\"\u001b[39m\u001b[33mseq_len\u001b[39m\u001b[33m\"\u001b[39m]\n\u001b[32m----> \u001b[39m\u001b[32m6\u001b[39m ds_raw = \u001b[43mload_dataset\u001b[49m\u001b[43m(\u001b[49m\u001b[43mname\u001b[49m\u001b[43m=\u001b[49m\u001b[33;43m'\u001b[39;49m\u001b[33;43mopus_books\u001b[39;49m\u001b[33;43m'\u001b[39;49m\u001b[43m,\u001b[49m\u001b[43m \u001b[49m\u001b[43msubset\u001b[49m\u001b[43m \u001b[49m\u001b[43m=\u001b[49m\u001b[43m \u001b[49m\u001b[33;43mf\u001b[39;49m\u001b[33;43m\"\u001b[39;49m\u001b[38;5;132;43;01m{\u001b[39;49;00m\u001b[43mlang_src\u001b[49m\u001b[38;5;132;43;01m}\u001b[39;49;00m\u001b[33;43m-\u001b[39;49m\u001b[38;5;132;43;01m{\u001b[39;49;00m\u001b[43mlang_tgt\u001b[49m\u001b[38;5;132;43;01m}\u001b[39;49;00m\u001b[33;43m\"\u001b[39;49m\u001b[43m,\u001b[49m\u001b[43m \u001b[49m\u001b[43msplit\u001b[49m\u001b[43m=\u001b[49m\u001b[33;43m\"\u001b[39;49m\u001b[33;43mtrain\u001b[39;49m\u001b[33;43m\"\u001b[39;49m\u001b[43m)\u001b[49m\n\u001b[32m      8\u001b[39m \u001b[38;5;66;03m#We define two tokenizer (each language has different tokens)\u001b[39;00m\n\u001b[32m      9\u001b[39m tokenizer_src = get_or_build_tokenizer(config,ds_raw,lang_src)\n",
      "\u001b[31mTypeError\u001b[39m: load_dataset() missing 1 required positional argument: 'path'"
     ]
    }
   ],
   "source": [
    "def train_model(config):\n",
    "    #Define in which device the training will be\n",
    "    device = torch.device(\"cuda\" if torch.cuda.is_available() else 'cpu')\n",
    "    print(f\" Using device:{device}\")\n",
    "    \n",
    "    #Create the weights folder\n",
    "    Path(config[\"model_folder\"]).mkdir(parents=True, exist_ok=True)\n",
    "    \n",
    "    #Load the dataset\n",
    "    train_dataloader , val_dataloader , tokenizer_src , tokenizer_tgt = get_ds(config=config)\n",
    "    \n",
    "    #Import the model\n",
    "    model = get_model(config= config,vocab_src_len= tokenizer_src.get_vocab_size(), vocab_tgt_len= tokenizer_tgt.get_vocab_size()).to(device)\n",
    "    \n",
    "    # Start tensoboard to visualize the loss charts\n",
    "    writer = SummaryWriter(config[\"experiment_name\"])\n",
    "    \n",
    "    optimizer = torch.optim.Adam(model.parameters , lr=config['lr'], eps= 1e-9)\n",
    "    \n",
    "    initial_epoch = 0\n",
    "    global_epoch = 0\n",
    "    \n",
    "    if config[\"preload\"]:\n",
    "        model_filename = get_weights_file_path(config=config,epoch=config[\"preload\"])\n",
    "        print(f'Preloading model {model_filename}')\n",
    "        state = torch.load(model_filename)\n",
    "        initial_epoch = state[\"epoch\"] + 1\n",
    "        optimizer.load_state_dict(state['optimizer_state_dict'])\n",
    "        global_step = state[\"global_step\"]\n",
    "        \n",
    "    loss_fn= nn.CrossEntropyLoss(ignore_index= tokenizer_src.token_to_id(\"[PAS]\"),label_smoothing=0.1).to(device)\n",
    "    \n",
    "    for epoch in range(initial_epoch,config[\"num_epochs\"]):\n",
    "        model.train()\n",
    "        batch_iterator = tqdm(train_dataloader, desc = f'Processing epoch {epoch:0.2d}')\n",
    "        for batch in batch_iterator:\n",
    "            encoder_input = batch[\"encoder_input\"].to(device) #(B , seq_len)\n",
    "            decoder_input = batch[\"decoder_input\"].to(device) #(B , seq_len)\n",
    "\n",
    "            encoder_mask = batch[\"encoder_mask\"]\n",
    "            decoder_mask = batch[\"decoder_mask\"]\n",
    "            \n",
    "            encoder_output = model.encode(input=encoder_input, src_mask=encoder_mask)\n",
    "            decoder_output = model.decode(encoder_output, decoder_input, decoder_mask)\n",
    "            proj_output = model.projection_layer(decoder_output)\n",
    "            label = batch[\"label\"].to(device)\n",
    "            \n",
    "            loss = loss_fn(proj_output.view(-1, tokenizer_tgt.get_vocab_size()), label.view(-1))\n",
    "            batch_iterator.set_postfix({\"loss\": f\"{loss.item():6.3f}\"})\n",
    "            \n",
    "            #Write the loss\n",
    "            writer.add_scalar(\"train_loss\", loss.item(), global_step=global_step)\n",
    "            writer.flush()\n",
    "            \n",
    "            loss.backward()\n",
    "            optimizer.step()\n",
    "            optimizer.zero_grad()\n",
    "            \n",
    "            global_step += 1\n",
    "    model_filename = get_weights_file_path(config, f\"{epoch:02d}\")\n",
    "    torch.save({\n",
    "        'epoch': epoch,\n",
    "        'model_state_dict': model.state_dict(),\n",
    "        'optimizer_state_dict': optimizer.state_dict(),\n",
    "        'global_step': global_step\n",
    "    }, model_filename)\n",
    "\n",
    "\n",
    "if __name__ == '__main__':\n",
    "    warnings.filterwarnings(\"ignore\")\n",
    "    config = get_config()\n",
    "    train_model(config=config)"
   ]
  }
 ],
 "metadata": {
  "kernelspec": {
   "display_name": "myenv",
   "language": "python",
   "name": "python3"
  },
  "language_info": {
   "codemirror_mode": {
    "name": "ipython",
    "version": 3
   },
   "file_extension": ".py",
   "mimetype": "text/x-python",
   "name": "python",
   "nbconvert_exporter": "python",
   "pygments_lexer": "ipython3",
   "version": "3.12.3"
  }
 },
 "nbformat": 4,
 "nbformat_minor": 5
}
